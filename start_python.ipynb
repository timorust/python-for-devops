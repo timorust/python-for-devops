{
  "nbformat": 4,
  "nbformat_minor": 0,
  "metadata": {
    "colab": {
      "provenance": [],
      "toc_visible": true,
      "authorship_tag": "ABX9TyMaUaRn0fxeidMc6DM6rmcR",
      "include_colab_link": true
    },
    "kernelspec": {
      "name": "python3",
      "display_name": "Python 3"
    },
    "language_info": {
      "name": "python"
    }
  },
  "cells": [
    {
      "cell_type": "markdown",
      "metadata": {
        "id": "view-in-github",
        "colab_type": "text"
      },
      "source": [
        "<a href=\"https://colab.research.google.com/github/timorust/python-for-devops/blob/main/start_python.ipynb\" target=\"_parent\"><img src=\"https://colab.research.google.com/assets/colab-badge.svg\" alt=\"Open In Colab\"/></a>"
      ]
    },
    {
      "cell_type": "markdown",
      "source": [
        "## Intro to Python"
      ],
      "metadata": {
        "id": "CpTdWQWxQQxv"
      }
    },
    {
      "cell_type": "markdown",
      "source": [
        "### Statements in Python"
      ],
      "metadata": {
        "id": "L30Gmq4kQxFQ"
      }
    },
    {
      "cell_type": "code",
      "source": [
        "print(\"Hello World\")"
      ],
      "metadata": {
        "id": "vM4FpEiMROEX",
        "outputId": "d910eea1-b7cd-4a19-e25c-715ced49f19c",
        "colab": {
          "base_uri": "https://localhost:8080/"
        }
      },
      "execution_count": 1,
      "outputs": [
        {
          "output_type": "stream",
          "name": "stdout",
          "text": [
            "Hello World\n"
          ]
        }
      ]
    },
    {
      "cell_type": "code",
      "source": [
        "name = \"timik\"\n",
        "print(f\"Hello => {name}\")"
      ],
      "metadata": {
        "id": "DBtwevFVRiVj",
        "outputId": "a42c25a3-4501-42db-e413-128826ca3297",
        "colab": {
          "base_uri": "https://localhost:8080/"
        }
      },
      "execution_count": 2,
      "outputs": [
        {
          "output_type": "stream",
          "name": "stdout",
          "text": [
            "Hello => timik\n"
          ]
        }
      ]
    },
    {
      "cell_type": "markdown",
      "source": [
        "### Data:Lists and Dictionaries\n"
      ],
      "metadata": {
        "id": "-ar4AbxmSC19"
      }
    },
    {
      "cell_type": "markdown",
      "source": [
        "####List"
      ],
      "metadata": {
        "id": "55p6Ulp2T_hm"
      }
    },
    {
      "cell_type": "code",
      "source": [
        "car = [\"new\", \"white\", \"black\"]"
      ],
      "metadata": {
        "id": "2b6qw6khSUKf"
      },
      "execution_count": 3,
      "outputs": []
    },
    {
      "cell_type": "code",
      "source": [
        "type(car)"
      ],
      "metadata": {
        "id": "3J9OoCmwSy10",
        "outputId": "2040e6d9-ca3b-41ae-f067-91a8d3a3ac1c",
        "colab": {
          "base_uri": "https://localhost:8080/"
        }
      },
      "execution_count": 4,
      "outputs": [
        {
          "output_type": "execute_result",
          "data": {
            "text/plain": [
              "list"
            ]
          },
          "metadata": {},
          "execution_count": 4
        }
      ]
    },
    {
      "cell_type": "code",
      "source": [
        "car[0]"
      ],
      "metadata": {
        "id": "5ziINTGrS8mm",
        "outputId": "0b5736bb-aa8a-4f6e-8e08-c18b4074d035",
        "colab": {
          "base_uri": "https://localhost:8080/",
          "height": 35
        }
      },
      "execution_count": 5,
      "outputs": [
        {
          "output_type": "execute_result",
          "data": {
            "text/plain": [
              "'new'"
            ],
            "application/vnd.google.colaboratory.intrinsic+json": {
              "type": "string"
            }
          },
          "metadata": {},
          "execution_count": 5
        }
      ]
    },
    {
      "cell_type": "code",
      "source": [
        "car[:-1]"
      ],
      "metadata": {
        "id": "1fiLCaxvTBew",
        "outputId": "b4c9bef0-181d-477b-e824-ce62e23deec9",
        "colab": {
          "base_uri": "https://localhost:8080/"
        }
      },
      "execution_count": 6,
      "outputs": [
        {
          "output_type": "execute_result",
          "data": {
            "text/plain": [
              "['new', 'white']"
            ]
          },
          "metadata": {},
          "execution_count": 6
        }
      ]
    },
    {
      "cell_type": "code",
      "source": [
        "car[-1:]"
      ],
      "metadata": {
        "id": "gc3uq7qNTJCF",
        "outputId": "438e009d-000b-4a11-b4bd-05310878daff",
        "colab": {
          "base_uri": "https://localhost:8080/"
        }
      },
      "execution_count": 7,
      "outputs": [
        {
          "output_type": "execute_result",
          "data": {
            "text/plain": [
              "['black']"
            ]
          },
          "metadata": {},
          "execution_count": 7
        }
      ]
    },
    {
      "cell_type": "code",
      "source": [
        "for my_cars in car:\n",
        "  print(f\"This is my cars:=> {my_cars}\")"
      ],
      "metadata": {
        "id": "MxPoNqjPTX2U",
        "outputId": "6419e115-a3f8-4a0c-f0f5-aa5015fba815",
        "colab": {
          "base_uri": "https://localhost:8080/"
        }
      },
      "execution_count": 8,
      "outputs": [
        {
          "output_type": "stream",
          "name": "stdout",
          "text": [
            "This is my cars:=> new\n",
            "This is my cars:=> white\n",
            "This is my cars:=> black\n"
          ]
        }
      ]
    },
    {
      "cell_type": "markdown",
      "source": [
        "####Dictionary"
      ],
      "metadata": {
        "id": "fEfxIqSwUOkf"
      }
    },
    {
      "cell_type": "code",
      "source": [
        "it = {\"fulstack\": \"nodejs-react\", \"cyber\": \"kali\", \"devops\": \"kuber\"}"
      ],
      "metadata": {
        "id": "qKGPKJ6SUWdF"
      },
      "execution_count": 9,
      "outputs": []
    },
    {
      "cell_type": "code",
      "source": [
        "it.keys()"
      ],
      "metadata": {
        "id": "fVVwiSn_VMgQ",
        "outputId": "1a178355-6085-454e-b2e6-d84bd275c4db",
        "colab": {
          "base_uri": "https://localhost:8080/"
        }
      },
      "execution_count": 10,
      "outputs": [
        {
          "output_type": "execute_result",
          "data": {
            "text/plain": [
              "dict_keys(['fulstack', 'cyber', 'devops'])"
            ]
          },
          "metadata": {},
          "execution_count": 10
        }
      ]
    },
    {
      "cell_type": "code",
      "source": [
        "it.values()"
      ],
      "metadata": {
        "id": "p1jLRnRcVbez",
        "outputId": "4d9e50d6-6049-473e-8c71-24fd8ef84d4d",
        "colab": {
          "base_uri": "https://localhost:8080/"
        }
      },
      "execution_count": 11,
      "outputs": [
        {
          "output_type": "execute_result",
          "data": {
            "text/plain": [
              "dict_values(['nodejs-react', 'kali', 'kuber'])"
            ]
          },
          "metadata": {},
          "execution_count": 11
        }
      ]
    },
    {
      "cell_type": "code",
      "source": [
        "it.items()"
      ],
      "metadata": {
        "id": "rqf5myZbVxYA",
        "outputId": "8b17100b-4c86-498d-d995-2767773c490d",
        "colab": {
          "base_uri": "https://localhost:8080/"
        }
      },
      "execution_count": 12,
      "outputs": [
        {
          "output_type": "execute_result",
          "data": {
            "text/plain": [
              "dict_items([('fulstack', 'nodejs-react'), ('cyber', 'kali'), ('devops', 'kuber')])"
            ]
          },
          "metadata": {},
          "execution_count": 12
        }
      ]
    },
    {
      "cell_type": "code",
      "source": [
        "for it_name, it_item in it.items():\n",
        "  print(f\"my skill in:=> {it_name} the not only:=> {it_item}\")"
      ],
      "metadata": {
        "id": "8ZhyWdWfV3ik",
        "outputId": "15611770-6516-46e3-a515-0555bc6c8ef5",
        "colab": {
          "base_uri": "https://localhost:8080/"
        }
      },
      "execution_count": 13,
      "outputs": [
        {
          "output_type": "stream",
          "name": "stdout",
          "text": [
            "my skill in:=> fulstack the not only:=> nodejs-react\n",
            "my skill in:=> cyber the not only:=> kali\n",
            "my skill in:=> devops the not only:=> kuber\n"
          ]
        }
      ]
    }
  ]
}