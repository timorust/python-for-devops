{
  "cells": [
    {
      "cell_type": "markdown",
      "metadata": {
        "colab_type": "text",
        "id": "view-in-github"
      },
      "source": [
        "<a href=\"https://colab.research.google.com/github/timorust/python-for-devops/blob/main/start_python.ipynb\" target=\"_parent\"><img src=\"https://colab.research.google.com/assets/colab-badge.svg\" alt=\"Open In Colab\"/></a>"
      ]
    },
    {
      "cell_type": "code",
      "execution_count": null,
      "metadata": {},
      "outputs": [],
      "source": []
    },
    {
      "cell_type": "markdown",
      "metadata": {
        "id": "CpTdWQWxQQxv"
      },
      "source": [
        "## Intro to Python"
      ]
    },
    {
      "cell_type": "markdown",
      "metadata": {
        "id": "L30Gmq4kQxFQ"
      },
      "source": [
        "### Statements in Python"
      ]
    },
    {
      "cell_type": "code",
      "execution_count": 1,
      "metadata": {
        "colab": {
          "base_uri": "https://localhost:8080/"
        },
        "id": "vM4FpEiMROEX",
        "outputId": "d910eea1-b7cd-4a19-e25c-715ced49f19c"
      },
      "outputs": [
        {
          "name": "stdout",
          "output_type": "stream",
          "text": [
            "Hello World\n"
          ]
        }
      ],
      "source": [
        "print(\"Hello World\")"
      ]
    },
    {
      "cell_type": "code",
      "execution_count": 2,
      "metadata": {
        "colab": {
          "base_uri": "https://localhost:8080/"
        },
        "id": "DBtwevFVRiVj",
        "outputId": "a42c25a3-4501-42db-e413-128826ca3297"
      },
      "outputs": [
        {
          "name": "stdout",
          "output_type": "stream",
          "text": [
            "Hello => timik\n"
          ]
        }
      ],
      "source": [
        "name = \"timik\"\n",
        "print(f\"Hello => {name}\")"
      ]
    },
    {
      "cell_type": "markdown",
      "metadata": {
        "id": "-ar4AbxmSC19"
      },
      "source": [
        "### Data:Lists and Dictionaries\n"
      ]
    },
    {
      "cell_type": "markdown",
      "metadata": {
        "id": "55p6Ulp2T_hm"
      },
      "source": [
        "####List"
      ]
    },
    {
      "cell_type": "code",
      "execution_count": 3,
      "metadata": {
        "id": "2b6qw6khSUKf"
      },
      "outputs": [],
      "source": [
        "car = [\"new\", \"white\", \"black\"]"
      ]
    },
    {
      "cell_type": "code",
      "execution_count": 4,
      "metadata": {
        "colab": {
          "base_uri": "https://localhost:8080/"
        },
        "id": "3J9OoCmwSy10",
        "outputId": "2040e6d9-ca3b-41ae-f067-91a8d3a3ac1c"
      },
      "outputs": [
        {
          "data": {
            "text/plain": [
              "list"
            ]
          },
          "execution_count": 4,
          "metadata": {},
          "output_type": "execute_result"
        }
      ],
      "source": [
        "type(car)"
      ]
    },
    {
      "cell_type": "code",
      "execution_count": 5,
      "metadata": {
        "colab": {
          "base_uri": "https://localhost:8080/",
          "height": 35
        },
        "id": "5ziINTGrS8mm",
        "outputId": "0b5736bb-aa8a-4f6e-8e08-c18b4074d035"
      },
      "outputs": [
        {
          "data": {
            "application/vnd.google.colaboratory.intrinsic+json": {
              "type": "string"
            },
            "text/plain": [
              "'new'"
            ]
          },
          "execution_count": 5,
          "metadata": {},
          "output_type": "execute_result"
        }
      ],
      "source": [
        "car[0]"
      ]
    },
    {
      "cell_type": "code",
      "execution_count": 6,
      "metadata": {
        "colab": {
          "base_uri": "https://localhost:8080/"
        },
        "id": "1fiLCaxvTBew",
        "outputId": "b4c9bef0-181d-477b-e824-ce62e23deec9"
      },
      "outputs": [
        {
          "data": {
            "text/plain": [
              "['new', 'white']"
            ]
          },
          "execution_count": 6,
          "metadata": {},
          "output_type": "execute_result"
        }
      ],
      "source": [
        "car[:-1]"
      ]
    },
    {
      "cell_type": "code",
      "execution_count": 7,
      "metadata": {
        "colab": {
          "base_uri": "https://localhost:8080/"
        },
        "id": "gc3uq7qNTJCF",
        "outputId": "438e009d-000b-4a11-b4bd-05310878daff"
      },
      "outputs": [
        {
          "data": {
            "text/plain": [
              "['black']"
            ]
          },
          "execution_count": 7,
          "metadata": {},
          "output_type": "execute_result"
        }
      ],
      "source": [
        "car[-1:]"
      ]
    },
    {
      "cell_type": "code",
      "execution_count": 8,
      "metadata": {
        "colab": {
          "base_uri": "https://localhost:8080/"
        },
        "id": "MxPoNqjPTX2U",
        "outputId": "6419e115-a3f8-4a0c-f0f5-aa5015fba815"
      },
      "outputs": [
        {
          "name": "stdout",
          "output_type": "stream",
          "text": [
            "This is my cars:=> new\n",
            "This is my cars:=> white\n",
            "This is my cars:=> black\n"
          ]
        }
      ],
      "source": [
        "for my_cars in car:\n",
        "  print(f\"This is my cars:=> {my_cars}\")"
      ]
    },
    {
      "cell_type": "markdown",
      "metadata": {
        "id": "fEfxIqSwUOkf"
      },
      "source": [
        "####Dictionary"
      ]
    },
    {
      "cell_type": "code",
      "execution_count": 9,
      "metadata": {
        "id": "qKGPKJ6SUWdF"
      },
      "outputs": [],
      "source": [
        "it = {\"fulstack\": \"nodejs-react\", \"cyber\": \"kali\", \"devops\": \"kuber\"}"
      ]
    },
    {
      "cell_type": "code",
      "execution_count": 10,
      "metadata": {
        "colab": {
          "base_uri": "https://localhost:8080/"
        },
        "id": "fVVwiSn_VMgQ",
        "outputId": "1a178355-6085-454e-b2e6-d84bd275c4db"
      },
      "outputs": [
        {
          "data": {
            "text/plain": [
              "dict_keys(['fulstack', 'cyber', 'devops'])"
            ]
          },
          "execution_count": 10,
          "metadata": {},
          "output_type": "execute_result"
        }
      ],
      "source": [
        "it.keys()"
      ]
    },
    {
      "cell_type": "code",
      "execution_count": 11,
      "metadata": {
        "colab": {
          "base_uri": "https://localhost:8080/"
        },
        "id": "p1jLRnRcVbez",
        "outputId": "4d9e50d6-6049-473e-8c71-24fd8ef84d4d"
      },
      "outputs": [
        {
          "data": {
            "text/plain": [
              "dict_values(['nodejs-react', 'kali', 'kuber'])"
            ]
          },
          "execution_count": 11,
          "metadata": {},
          "output_type": "execute_result"
        }
      ],
      "source": [
        "it.values()"
      ]
    },
    {
      "cell_type": "code",
      "execution_count": 12,
      "metadata": {
        "colab": {
          "base_uri": "https://localhost:8080/"
        },
        "id": "rqf5myZbVxYA",
        "outputId": "8b17100b-4c86-498d-d995-2767773c490d"
      },
      "outputs": [
        {
          "data": {
            "text/plain": [
              "dict_items([('fulstack', 'nodejs-react'), ('cyber', 'kali'), ('devops', 'kuber')])"
            ]
          },
          "execution_count": 12,
          "metadata": {},
          "output_type": "execute_result"
        }
      ],
      "source": [
        "it.items()"
      ]
    },
    {
      "cell_type": "code",
      "execution_count": 13,
      "metadata": {
        "colab": {
          "base_uri": "https://localhost:8080/"
        },
        "id": "8ZhyWdWfV3ik",
        "outputId": "15611770-6516-46e3-a515-0555bc6c8ef5"
      },
      "outputs": [
        {
          "name": "stdout",
          "output_type": "stream",
          "text": [
            "my skill in:=> fulstack the not only:=> nodejs-react\n",
            "my skill in:=> cyber the not only:=> kali\n",
            "my skill in:=> devops the not only:=> kuber\n"
          ]
        }
      ],
      "source": [
        "for it_name, it_item in it.items():\n",
        "  print(f\"my skill in:=> {it_name} the not only:=> {it_item}\")"
      ]
    }
  ],
  "metadata": {
    "colab": {
      "authorship_tag": "ABX9TyMaUaRn0fxeidMc6DM6rmcR",
      "include_colab_link": true,
      "provenance": [],
      "toc_visible": true
    },
    "kernelspec": {
      "display_name": "Python 3",
      "name": "python3"
    },
    "language_info": {
      "name": "python"
    }
  },
  "nbformat": 4,
  "nbformat_minor": 0
}
